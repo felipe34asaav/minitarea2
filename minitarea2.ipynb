{
  "nbformat": 4,
  "nbformat_minor": 0,
  "metadata": {
    "colab": {
      "name": "minitarea2.ipynb",
      "version": "0.3.2",
      "provenance": []
    },
    "kernelspec": {
      "display_name": "Python 2",
      "language": "python",
      "name": "python2"
    }
  },
  "cells": [
    {
      "metadata": {
        "id": "f-hXQ47Juqe-",
        "colab_type": "text"
      },
      "cell_type": "markdown",
      "source": [
        "# EI2001: Ciencia de Datos en Astronomía\n",
        "\n",
        "**Profesores:** Pía Cortés, Daniela Barrientos, Matías Suazo, Matías Mattamala\n",
        "\n",
        "## Minitarea 2: Uso de NumPy y matplotlib\n",
        "\n",
        "**Objetivos:**\n",
        "\n",
        "1. Poner en práctica el uso de librerías en python (específicamente NumPy y matplotlib)\n",
        "2. Familiarizarse con el concepto de ndarray\n",
        "3. Realizar gráficos personalizados\n",
        "\n",
        "\n",
        "**Instrucciones:**\n",
        "\n",
        "1. Lean cuidadosamente todo lo que viene ahora\n",
        "2. Para hacer esta tarea deben que hacer un **fork** del repositorio en sus cuentas de GitHub.\n",
        "4. Abrir [Google Colab](https://colab.research.google.com) y seleccionar \"abrir un archivo desde GitHub\". Deben seleccionar su cuenta Github y escoger el repositorio que corresponde al fork que hicieron.\n",
        "5. Si todo sale bien, debería abrirse una copia de este notebook en su cuenta de Google Colab.\n",
        "6. Se adjuntan 6 mini actividades a completar. **TODAS** son necesarias y deben completar lo que se va pidiendo.\n",
        "7. Cada vez que completen un ítem, deben guardar un avance en su fork de GitHub, de modo de **respaldar cada avance significativo**. Usen comentarios coherentes con cada respaldo \"Sección 1 completa\", \"Tarea terminada\", no solamente el que pone por defecto.\n",
        "\n"
      ]
    },
    {
      "metadata": {
        "id": "TVy5npfHuqfA",
        "colab_type": "text"
      },
      "cell_type": "markdown",
      "source": [
        "## 1. Cargar datos\n",
        "\n",
        "Para esta minitarea trabajaremos con la fotometría de algunas estrellas. El objetivo final de esta actividad es obtener un gráfico llamado **Diagrama de Color-Magnitud (CMD)**, este es una variante del [Diagrama de Hertzsprung Russell](https://en.wikipedia.org/wiki/Hertzsprung%E2%80%93Russell_diagram) (o diagrama HR) cuyo objetivo es ver la distribución en Brillo y Color (Luminosidad y Temperatura para el diagrama HR) de las estrellas de una población. Con este se puede reconocer las distintas etapas evolutivas en las que se encuentran las estrellas, sus edades y metalicidades. \n",
        "\n",
        "\n",
        "Comienza por cargar los datos de una población sintética. En el repositorio se encuentra el archivo de texto llamado **`phot.dat`** que contiene:\n",
        "\n",
        "1. Fotometría en las bandas B, V, R, I (magnitud aparente)\n",
        "2. Temperatura ($log_{10}(T_{eff} / K)$)\n",
        "3. Masa [$M_{\\odot}$]\n",
        "4. Distancia [kpc] \n",
        "\n",
        "\n",
        "* Carga los datos a formato `ndarray` en la variable `datos` e inspecciona su forma y tamaño, como tambien las diferentes columnas."
      ]
    },
    {
      "metadata": {
        "id": "fLdmzgoDuqfB",
        "colab_type": "code",
        "colab": {
          "base_uri": "https://localhost:8080/",
          "height": 51
        },
        "outputId": "f1e909a8-cc84-407b-8147-c200db5b1407"
      },
      "cell_type": "code",
      "source": [
        "import numpy as np\n",
        "\n",
        "# Carga los datos a un ndarray\n",
        "\n",
        "archivo = 'https://raw.githubusercontent.com/astrodatos/minitarea2/master/phot.dat'\n",
        "datos = np.loadtxt(archivo)\n",
        "\n",
        "# Inspecciona su forma y tamaño\n",
        "datos.shape\n",
        "datos.size\n",
        "print(datos.shape)\n",
        "print(datos.size)"
      ],
      "execution_count": 5,
      "outputs": [
        {
          "output_type": "stream",
          "text": [
            "(5298, 7)\n",
            "37086\n"
          ],
          "name": "stdout"
        }
      ]
    },
    {
      "metadata": {
        "id": "F9LaB2tn7a57",
        "colab_type": "code",
        "colab": {}
      },
      "cell_type": "code",
      "source": [
        "import numpy as np\n",
        "import matplotlib.pyplot as plt\n",
        "B=datos[:,0]\n",
        "V=datos[:1]\n",
        "plt.hist(B)\n",
        "plt.xlabel('Smarts')\n",
        "plt.ylabel('Probability')\n",
        "plt.title('Histogram of IQ')\n",
        "plt.text(60, .025, r'$\\mu=100,\\ \\sigma=15$')\n",
        "plt.axis([40, 160, 0, 0.03])\n",
        "plt.grid(True)\n",
        "plt.show()\n",
        "fig, ax = plt.subplots()\n",
        "plt.hist(datos[:,5])"
      ],
      "execution_count": 0,
      "outputs": []
    },
    {
      "metadata": {
        "id": "RpaCC7OYuqfE",
        "colab_type": "text"
      },
      "cell_type": "markdown",
      "source": [
        "## 2. Histogramas\n",
        "\n",
        "El siguiente paso es inspeccionar los elementos en las diferentes columnas. Para ello crearás histogramas de algunas variables de interés. \n",
        "\n",
        "* Haz una figura con dos gráficos, uno al lado del otro, que contengan:\n",
        "\n",
        "    1. Un histograma con las distribuciones de las magnitudes en las bandas B y V\n",
        "    2. Un histograma con la distribución de masas\n",
        "\n",
        "No olvides poner nombres a los ejes, titulos, leyendas, etc. Se creativo en el estilo de tu gráfico!"
      ]
    },
    {
      "metadata": {
        "id": "QLielgsIuqfH",
        "colab_type": "code",
        "colab": {
          "base_uri": "https://localhost:8080/",
          "height": 581
        },
        "outputId": "d9828ec4-70b2-40f4-ee37-460d0fe4676d"
      },
      "cell_type": "code",
      "source": [
        "\n",
        "import matplotlib.pyplot as plt\n",
        "%matplotlib inline\n",
        "B=datos[:,0]\n",
        "plt.hist(B)\n",
        "V=datos[:,0]\n",
        "plt.hist(V,facecolor=\"r\")\n",
        "\n",
        "\n",
        "fig, ax = plt.subplots()\n",
        "plt.hist(datos[:,5],facecolor='g')"
      ],
      "execution_count": 77,
      "outputs": [
        {
          "output_type": "execute_result",
          "data": {
            "text/plain": [
              "(array([696., 928., 841., 800., 701., 303., 294., 256., 242., 237.]),\n",
              " array([0.85  , 0.8964, 0.9428, 0.9892, 1.0356, 1.082 , 1.1284, 1.1748,\n",
              "        1.2212, 1.2676, 1.314 ]),\n",
              " <a list of 10 Patch objects>)"
            ]
          },
          "metadata": {
            "tags": []
          },
          "execution_count": 77
        },
        {
          "output_type": "display_data",
          "data": {
            "image/png": "[encoded data removed]",
            "text/plain": [
              "<Figure size 432x288 with 1 Axes>"
            ]
          },
          "metadata": {
            "tags": []
          }
        },
        {
          "output_type": "display_data",
          "data": {
            "image/png": "[encoded data removed]",
            "text/plain": [
              "<Figure size 432x288 with 1 Axes>"
            ]
          },
          "metadata": {
            "tags": []
          }
        }
      ]
    },
    {
      "metadata": {
        "id": "hhnGIjCcuqfK",
        "colab_type": "text"
      },
      "cell_type": "markdown",
      "source": [
        "## 3. Filtrar datos\n",
        "\n",
        "Como te habrás dado cuenta hay dos distribuciones de distancia. La mayoría de las estrellas corresponden a la población sintética creada, mientras que el resto son estrellas de fondo. Para estudiar nuestro cúmulo, primero debemos filtrar las estrellas que no pertenecen a él. \n",
        "\n",
        "* Haz una copia del set de datos originales en la variable `datos_filtrados` y sólo utiliza las estrellas que cumplan con un criterio basado en el histograma anterior.\n",
        "* Imprime en pantalla el tamaño original del set de datos y del nuevo filtrado con el siguiente formato: _\"El set original contenía X estrellas, luego de filtrar quedaron X\"_\n"
      ]
    },
    {
      "metadata": {
        "id": "y6FAfRhXuqfL",
        "colab_type": "code",
        "colab": {
          "base_uri": "https://localhost:8080/",
          "height": 3366
        },
        "outputId": "828ae3e6-2bb1-43c4-cbd6-d0cac102aafc"
      },
      "cell_type": "code",
      "source": [
        "#Filtrar por distancia\n",
        "\n",
        "datos_filtrados = datos[B<1].copy()\n",
        "print(datos_filtrados)\n",
        "print(\"El set original contenia  \"+str( B.size )+\"  estrellas, luego de filtrar quedaron  \"+str( datos_filtrados.size))"
      ],
      "execution_count": 100,
      "outputs": [
        {
          "output_type": "stream",
          "text": [
            "[[ 0.25725575 -1.00155302 -1.58679165 -2.12079165  3.6561      1.312\n",
            "   3.06366778]\n",
            " [ 0.32701713 -0.86535594 -1.58563338 -2.13663338  3.6498      1.08\n",
            "   2.84756289]\n",
            " [ 0.59680064 -0.49727849 -2.6630077  -4.7650077   3.4938      1.042\n",
            "   2.9716555 ]\n",
            " [-0.96211562 -2.43936238 -3.37759452 -4.26559452  3.5861      1.077\n",
            "   2.95448028]\n",
            " [ 0.13929129 -1.12427067 -1.73431876 -2.27831876  3.6525      1.314\n",
            "   3.08415537]\n",
            " [-0.23335654 -1.41099727 -2.11279094 -2.64779094  3.6553      1.012\n",
            "   2.99117493]\n",
            " [-0.3220389  -1.55116337 -2.28056897 -2.83156897  3.6493      1.014\n",
            "   3.01221666]\n",
            " [ 0.94961106 -0.20968668 -0.74264323 -1.22964323  3.6746      1.306\n",
            "   2.9707859 ]\n",
            " [ 0.76269094 -0.32593549 -1.07716247 -1.60216247  3.6594      1.079\n",
            "   2.89046361]\n",
            " [-0.19766763 -1.40686324 -2.10988118 -2.65388118  3.6519      1.01\n",
            "   3.04806177]\n",
            " [ 0.97956212 -0.16775249 -0.74292864 -1.22992864  3.6744      1.306\n",
            "   2.98960817]\n",
            " [-0.82088258 -2.31130534 -3.21928096 -4.07028096  3.5896      1.078\n",
            "   3.09131889]\n",
            " [ 0.86770497 -0.31030627 -0.84369105 -1.33269105  3.6736      1.306\n",
            "   2.90979095]\n",
            " [-0.2459758  -1.57966005 -2.36929369 -3.01129369  3.6271      1.081\n",
            "   2.92375691]\n",
            " [ 0.81080201 -0.38841162 -0.93209799 -1.42609799  3.6713      1.307\n",
            "   2.9646976 ]\n",
            " [ 0.95572381 -0.16598565 -0.86994593 -1.39694593  3.6585      1.079\n",
            "   3.24646567]\n",
            " [ 0.29339884 -0.89771169 -1.62954862 -2.18854862  3.6475      1.081\n",
            "   2.92880377]\n",
            " [-0.23162742 -1.43889799 -2.12207083 -2.65707083  3.6553      1.013\n",
            "   3.01846284]\n",
            " [-0.45719451 -1.85099266 -2.6695059  -3.3595059   3.6183      1.08\n",
            "   2.88203215]\n",
            " [ 0.95361413 -0.13080675 -0.83817185 -1.35417185  3.6626      1.079\n",
            "   2.99478486]\n",
            " [ 0.94313355 -0.17186922 -0.83584144 -1.34884144  3.6638      1.079\n",
            "   2.90557247]\n",
            " [-0.24133723 -1.559823   -2.34827728 -2.98127728  3.6286      1.081\n",
            "   2.88764994]\n",
            " [ 0.59674161 -0.58179401 -1.16831295 -1.67831295  3.6653      1.309\n",
            "   3.05588784]\n",
            " [-0.28751951 -1.4894561  -2.20639342 -2.75439342  3.6503      1.01\n",
            "   2.92227656]\n",
            " [ 0.4021606  -0.80243409 -1.52977054 -2.08977054  3.6472      1.08\n",
            "   3.0342118 ]\n",
            " [-0.31274246 -1.50020822 -2.20308524 -2.74008524  3.6548      1.013\n",
            "   2.92538448]\n",
            " [ 0.3627212  -0.83572408 -1.56194149 -2.12294149  3.6472      1.08\n",
            "   2.99372361]\n",
            " [ 0.71230873 -0.40734385 -1.12077253 -1.65177253  3.657       1.079\n",
            "   2.99671537]\n",
            " [ 0.45760159 -0.73253274 -1.45760559 -2.01260559  3.6488      1.08\n",
            "   3.0681662 ]\n",
            " [ 0.24160426 -1.0272764  -1.60332163 -2.13532163  3.6566      1.312\n",
            "   3.00148152]\n",
            " [-0.31266311 -1.52466926 -2.24235802 -2.79335802  3.6496      1.014\n",
            "   3.057232  ]\n",
            " [ 0.66168072 -0.52744467 -1.20367639 -1.74267639  3.6541      1.08\n",
            "   3.06241979]\n",
            " [-0.25505219 -1.45859933 -2.1276382  -2.6616382   3.6558      1.013\n",
            "   2.99276323]\n",
            " [ 0.89079942 -0.25504644 -0.82805781 -1.31805781  3.6731      1.306\n",
            "   2.97158692]\n",
            " [ 0.88670423 -0.28482619 -0.81986241 -1.30886241  3.6741      1.306\n",
            "   2.90688277]\n",
            " [ 0.017425   -1.20018582 -3.00821015 -4.92721015  3.5151      0.984\n",
            "   3.03359759]\n",
            " [ 0.6597891  -0.46413574 -1.22940325 -1.77340325  3.6527      1.08\n",
            "   3.12262154]\n",
            " [ 0.49077577 -0.70817295 -1.42234024 -1.97234024  3.6502      1.08\n",
            "   3.0000739 ]\n",
            " [ 0.13326556 -1.11798624 -1.72685622 -2.26185622  3.6556      1.312\n",
            "   2.8895403 ]\n",
            " [ 0.34639556 -0.89880123 -1.50525418 -2.03925418  3.6561      1.312\n",
            "   3.18089376]\n",
            " [-0.07705978 -1.40400649 -2.18580691 -2.81880691  3.6286      1.081\n",
            "   3.11199304]\n",
            " [ 0.12110411 -1.14718043 -1.73033071 -2.26333071  3.6563      1.312\n",
            "   2.84402794]\n",
            " [-0.64135365 -1.94359924 -2.7036363  -3.2916363   3.6381      1.014\n",
            "   2.80978274]\n",
            " [ 0.7378234  -0.4468059  -1.11524025 -1.64924025  3.6563      1.08\n",
            "   3.04335035]\n",
            " [ 0.13160682 -1.13805731 -1.8905431  -2.4785431   3.639       1.081\n",
            "   3.02615648]\n",
            " [ 0.10994577 -1.17075261 -1.76773604 -2.30273604  3.6556      1.312\n",
            "   2.83565109]\n",
            " [ 0.74550392 -0.42113987 -0.99780801 -1.49680801  3.6694      1.308\n",
            "   3.01188508]\n",
            " [ 0.07442691 -1.22502093 -1.8208273  -2.3628273   3.6532      1.314\n",
            "   2.92573199]\n",
            " [ 0.17261835 -1.03301361 -1.77379427 -2.33679427  3.6465      1.081\n",
            "   2.79023734]\n",
            " [ 0.73694045 -0.45897006 -1.0348807  -1.5438807   3.6657      1.309\n",
            "   3.22569915]\n",
            " [ 0.41369675 -0.83164121 -1.39820413 -1.91720413  3.6613      1.311\n",
            "   2.99611979]\n",
            " [-0.15976154 -1.3597768  -2.04256601 -2.57656601  3.6555      1.012\n",
            "   3.08806759]\n",
            " [ 0.45404339 -0.72216572 -1.44669523 -1.99369523  3.6513      1.08\n",
            "   2.90175641]\n",
            " [-0.89594322 -2.39204279 -3.52973488 -4.83773488  3.5559      1.071\n",
            "   3.06515912]\n",
            " [ 0.40777741 -0.81637165 -1.38123669 -1.89623669  3.6632      1.31\n",
            "   2.90370613]\n",
            " [ 0.38929217 -0.78396055 -1.50818765 -2.05818765  3.6502      1.08\n",
            "   2.88378229]\n",
            " [-0.24919155 -1.44510305 -2.15910544 -2.70110544  3.6525      1.011\n",
            "   2.96878613]\n",
            " [ 0.2073422  -1.05932792 -1.64930544 -2.17930544  3.6573      1.313\n",
            "   2.93453242]\n",
            " [ 0.76128692 -0.37870428 -1.0944835  -1.6254835   3.6571      1.079\n",
            "   3.02623953]\n",
            " [ 0.34584406 -0.88669263 -1.47880703 -2.00080703  3.66        1.311\n",
            "   2.96372971]\n",
            " [-0.38764814 -1.56992836 -2.26070968 -2.79370968  3.6561      1.012\n",
            "   2.80322568]\n",
            " [-0.13859973 -1.32335874 -2.02051923 -2.55251923  3.6561      1.012\n",
            "   3.11958019]\n",
            " [ 0.6952134  -0.48785735 -1.03963187 -1.53863187  3.6696      1.308\n",
            "   2.94220972]\n",
            " [-0.73920758 -2.1438129  -2.98071051 -3.65271051  3.6176      1.014\n",
            "   3.06519352]\n",
            " [ 0.28326517 -0.90304596 -1.63724431 -2.19724431  3.6474      1.08\n",
            "   2.88370704]\n",
            " [-0.38211204 -1.80686716 -2.63673348 -3.35073348  3.6141      1.08\n",
            "   3.08498676]\n",
            " [ 0.62644287 -0.61466933 -1.14532356 -1.65232356  3.6663      1.309\n",
            "   3.02089261]\n",
            " [ 0.38439434 -0.86633316 -1.44158839 -1.96458839  3.6596      1.311\n",
            "   3.04006117]\n",
            " [ 0.52608855 -0.71808696 -1.24758366 -1.75758366  3.6649      1.31\n",
            "   2.97223584]\n",
            " [ 0.85610727 -0.29798151 -0.97054857 -1.49154857  3.6605      1.079\n",
            "   2.96271779]\n",
            " [ 0.77485113 -0.34157792 -1.02899863 -1.54899863  3.6609      1.079\n",
            "   2.85759235]\n",
            " [-0.39349577 -1.79258412 -2.59932405 -3.28932405  3.6183      1.08\n",
            "   2.97670084]\n",
            " [ 0.90142301 -0.2723551  -0.80903605 -1.30103605  3.6726      1.307\n",
            "   3.03384081]\n",
            " [ 0.9794305  -0.18107949 -0.72699054 -1.21599054  3.6741      1.306\n",
            "   3.03390441]\n",
            " [ 0.24496763 -1.01250348 -1.59761219 -2.12761219  3.6575      1.312\n",
            "   2.95445624]\n",
            " [ 0.91871481 -0.23468368 -0.89129879 -1.40729879  3.6626      1.079\n",
            "   2.92240393]\n",
            " [-0.37845442 -1.57850867 -2.27427973 -2.81427973  3.6536      1.013\n",
            "   2.87305575]\n",
            " [-1.16335156 -2.71895762 -3.61665522 -4.45965522  3.5899      1.014\n",
            "   2.90047386]\n",
            " [ 0.82290548 -0.32547445 -0.92558844 -1.42658844  3.6688      1.308\n",
            "   3.16142084]\n",
            " [-0.77425538 -2.21107708 -3.05214504 -3.75414504  3.6114      1.014\n",
            "   3.14753807]\n",
            " [ 0.7660975  -0.45459367 -1.00645399 -1.49945399  3.6718      1.307\n",
            "   2.83340856]\n",
            " [-0.24876677 -1.43786186 -2.13647976 -2.67347976  3.6546      1.013\n",
            "   3.02763869]\n",
            " [ 0.94747874 -0.15718239 -0.8813018  -1.4043018   3.6599      1.079\n",
            "   3.12852507]\n",
            " [-0.1817383  -1.38065836 -2.09783261 -2.64283261  3.6514      1.01\n",
            "   3.07350184]\n",
            " [-0.08600981 -1.38006615 -2.15202837 -2.76702837  3.6324      1.081\n",
            "   2.98396913]\n",
            " [ 0.21528807 -0.99829486 -1.73791718 -2.30991718  3.6437      1.081\n",
            "   2.98824749]\n",
            " [ 0.23178182 -1.01105616 -1.60042994 -2.13042994  3.6575      1.313\n",
            "   2.97792676]\n",
            " [ 0.40072027 -0.81285567 -1.38641111 -1.89441111  3.6659      1.309\n",
            "   2.72971796]\n",
            " [-0.26283447 -1.47287427 -2.18987995 -2.73987995  3.6499      1.01\n",
            "   2.96363019]\n",
            " [ 0.0918628  -1.16807628 -1.89646963 -2.47546963  3.6415      1.081\n",
            "   2.88872416]\n",
            " [-0.25180524 -1.45970713 -2.15727804 -2.69827804  3.6531      1.011\n",
            "   2.96172269]\n",
            " [-0.8810042  -2.30960881 -3.14645808 -3.84845808  3.6114      1.014\n",
            "   3.01375806]\n",
            " [ 0.37256335 -0.89729175 -1.47788144 -2.00988144  3.6567      1.313\n",
            "   3.21087731]\n",
            " [-0.18539172 -1.36576432 -2.0543006  -2.5873006   3.6561      1.012\n",
            "   3.06859717]\n",
            " [-1.12067892 -2.62865261 -3.62463575 -4.65263575  3.5744      1.075\n",
            "   2.82535387]\n",
            " [ 0.56417911 -0.53970467 -2.68903076 -4.79103076  3.4938      1.042\n",
            "   2.93625553]\n",
            " [ 0.81569059 -0.38772287 -1.10664327 -1.65764327  3.6496      1.014\n",
            "   5.15788133]\n",
            " [ 0.3377558  -1.16266206 -2.02823304 -2.80023304  3.5984      1.014\n",
            "   5.66700233]]\n",
            "El set original contenia  5298  estrellas, luego de filtrar quedaron  686\n"
          ],
          "name": "stdout"
        }
      ]
    },
    {
      "metadata": {
        "id": "oeYze-EBuqfO",
        "colab_type": "text"
      },
      "cell_type": "markdown",
      "source": [
        "## 4. Función Magnitud Absoluta\n",
        "\n",
        "Para hacer el CMD necesitamos la magnitud absoluta de nuestras estrellas. Para esto crearemos una función que la calcule.\n",
        "\n",
        "* Crea la función **`mag_abs(mag_ap, dist)`** de la siguiente forma:\n",
        "    * **Input:** \n",
        "        1. `mag_ap`: ndarray de magnitudes aparentes\n",
        "        2. `dist`: ndarray de distancias en unidades de [parsec]\n",
        "    * **Output:**\n",
        "        1. `mag_abs`: ndarray de magnitudes absolutas calculadas como: $M = m - 5 \\log_{10} (d_{pc}) + 5 $"
      ]
    },
    {
      "metadata": {
        "id": "gENemDN8uqfP",
        "colab_type": "code",
        "colab": {}
      },
      "cell_type": "code",
      "source": [
        "#Funcion mag_abs(mag, dist)\n",
        "\n",
        "def mag_abs(mag_ap, dist):\n",
        "    M += mag_abs-5*np.log10(dist)+5\n",
        "    return M"
      ],
      "execution_count": 0,
      "outputs": []
    },
    {
      "metadata": {
        "id": "BPO314IGuqfS",
        "colab_type": "text"
      },
      "cell_type": "markdown",
      "source": [
        "## 5. CMD\n",
        "\n",
        "Ahora podemos graficar nuestro Diagrama Color Magnitud. \n",
        "\n",
        "* Crea los siguientes arreglos:\n",
        "    1. `MV`: magnitud absoluta en la banda V\n",
        "    2. `color`: resta entre las magnitudes B y V (B-V)\n",
        "* Grafica MV vs color como se muestra en la siguiente [figura](https://www.astro.rug.nl/~ahelmi/galaxies_course/class_II/47tuc.gif). (**Hint: pon atención a los ejes)"
      ]
    },
    {
      "metadata": {
        "id": "g3hoizgUuqfT",
        "colab_type": "code",
        "colab": {}
      },
      "cell_type": "code",
      "source": [
        "#Crear arrays MV y color\n",
        "\n",
        "\n",
        "#plot cmd\n"
      ],
      "execution_count": 0,
      "outputs": []
    },
    {
      "metadata": {
        "id": "rtc1-5j7uqfZ",
        "colab_type": "text"
      },
      "cell_type": "markdown",
      "source": [
        "## 6. Densidades y otros\n",
        "\n",
        "Ahora crearemos gráficos con un poco más de información en color. \n",
        "* Haz una figura con dos gráficos, uno al lado del otro:\n",
        "    1. `MV vs color`, poninedo las masas de cada estrella en color (recuerda la barra de colores)\n",
        "    2. `MV vs color`, poniendo la Temperatura de cada estrella en color\n",
        "* Haz una figura con un gráfico que contenga:\n",
        "    1. [Histograma en 2D](https://matplotlib.org/api/_as_gen/matplotlib.pyplot.hist2d.html) con ejes `MV vs color` (esta figura muestra la densidad de estrellas en el espacio `MV vs color`)\n",
        "    \n",
        "No olvides poner **SIEMPRE** ejes a tus figuras, titulos, leyendas, etc. Elige mapas de colores donde se noten las características de los gráficos."
      ]
    },
    {
      "metadata": {
        "id": "iG8Hxtenuqfa",
        "colab_type": "code",
        "colab": {}
      },
      "cell_type": "code",
      "source": [
        "# plot cmd + masa / smd + temp"
      ],
      "execution_count": 0,
      "outputs": []
    },
    {
      "metadata": {
        "id": "ctJG8puOuqfe",
        "colab_type": "code",
        "colab": {}
      },
      "cell_type": "code",
      "source": [
        "# plot cmd hist2D"
      ],
      "execution_count": 0,
      "outputs": []
    }
  ]
}